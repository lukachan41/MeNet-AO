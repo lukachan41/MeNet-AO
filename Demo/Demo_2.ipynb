{
 "cells": [
  {
   "cell_type": "code",
   "execution_count": 1,
   "id": "c55d5390",
   "metadata": {},
   "outputs": [],
   "source": [
    "import sys\n",
    "sys.path.append(r'..') \n",
    "import os\n",
    "os.environ[\"KMP_DUPLICATE_LIB_OK\"]=\"TRUE\"\n",
    "\n",
    "from model.model import MeNet\n",
    "from model.Gdata import Data\n",
    "from model.config import Config\n",
    "from tqdm import tqdm\n",
    "import matplotlib.pyplot as plt \n",
    "import numpy as np\n",
    "import json"
   ]
  },
  {
   "cell_type": "markdown",
   "id": "4a4f23c8",
   "metadata": {},
   "source": [
    "## This demo reproduces the results corresponding to Figure 1b, where $Z_{7}$ Vertical Coma is shown to provide limited multi-modal predictability when used as the modulated aberration. "
   ]
  },
  {
   "cell_type": "code",
   "execution_count": 2,
   "id": "66debfc0",
   "metadata": {},
   "outputs": [],
   "source": [
    "def load_json_file(fpath):\n",
    "    with open(fpath, 'r') as f:\n",
    "        data = json.load(f)\n",
    "    return data"
   ]
  },
  {
   "cell_type": "markdown",
   "id": "c712eafe",
   "metadata": {},
   "source": [
    "## Load the config from the prepared dataset folder"
   ]
  },
  {
   "cell_type": "code",
   "execution_count": 4,
   "id": "5ef31f4a",
   "metadata": {},
   "outputs": [
    {
     "name": "stdout",
     "output_type": "stream",
     "text": [
      "Modulation: {'7': 0.2}\n",
      "Initial Mode Ranges: {'5': 0.5}\n"
     ]
    }
   ],
   "source": [
    "\n",
    "file_path = '../DataSet/Demo2/astig5/'\n",
    "data = load_json_file(str(file_path+'/config.json'))\n",
    "\n",
    "print('Modulation:',data['modulate_aber'])\n",
    "print('Initial Mode Ranges:',data['zernike_amplitude_ranges'])"
   ]
  },
  {
   "cell_type": "markdown",
   "id": "bc52410b",
   "metadata": {},
   "source": [
    "## Import and set up the parameters"
   ]
  },
  {
   "cell_type": "code",
   "execution_count": 4,
   "id": "f778b5f9",
   "metadata": {},
   "outputs": [],
   "source": [
    "net_architecture = 'singleEncoder' \n",
    "c = Config(zernike_amplitude_ranges=data['zernike_amplitude_ranges'],\n",
    "           modulate_aber=data['modulate_aber'],net_architecture = net_architecture,\n",
    "           isMultiStream = 1,isRealTime = False,psf_na_detection=data['psf_na_detection'], \n",
    "           psf_units=tuple(data['psf_units']), psf_n=data['psf_n'], \n",
    "           psf_lam_detection=data['psf_lam_detection'],dataFile = data['dataFile'], \n",
    "           isRegular = data['isRegular'], regularValue = data['regularValue'])\n",
    "#vars(c)"
   ]
  },
  {
   "cell_type": "markdown",
   "id": "a6341d15",
   "metadata": {},
   "source": [
    "## Setup the model"
   ]
  },
  {
   "cell_type": "code",
   "execution_count": 3,
   "id": "cb41666d",
   "metadata": {},
   "outputs": [
    {
     "name": "stdout",
     "output_type": "stream",
     "text": [
      "input_shape (32, 32, 2)\n",
      "output_size: 1\n",
      "Loading network weights from 'weights_best.h5'.\n"
     ]
    }
   ],
   "source": [
    "model = MeNet(None, name='astig5ModulatedByComa7', basedir='test//')"
   ]
  },
  {
   "cell_type": "markdown",
   "id": "a8dd388c",
   "metadata": {},
   "source": [
    "## Check/Set the model parameters and train the model"
   ]
  },
  {
   "cell_type": "code",
   "execution_count": 4,
   "id": "06e44c79",
   "metadata": {},
   "outputs": [
    {
     "name": "stdout",
     "output_type": "stream",
     "text": [
      "MultiStream\n",
      "Net_architecture: singleEncoder\n",
      "Batch_size: 32\n",
      "train_steps_per_epoch: 1000\n",
      "The number of predicted aberrations: 1\n",
      "Range of predicted aberrations:  {'5': 0.5}\n",
      "Induced bias : {'7': 0.2}\n",
      "Net_architecture: singleEncoder\n",
      "Net_Learning_rate: 0.0006\n",
      "RealTime: False\n",
      "DataFile: ../DataSet/astig5ModulateBycoma7/\n"
     ]
    }
   ],
   "source": [
    "print((\"MultiStream\" if model.config.isMultiStream else \"SingleStream\"))\n",
    "print(\"Net_architecture:\",model.config.net_architecture)\n",
    "print(\"Batch_size:\",model.config.train_batch_size)\n",
    "print(\"train_steps_per_epoch:\",model.config.train_steps_per_epoch)\n",
    "print(\"The number of predicted aberrations:\",model.config.n_channel_out)\n",
    "print(\"Range of predicted aberrations: \",model.config.zernike_amplitude_ranges)\n",
    "print(\"Induced bias :\",model.config.modulate_aber)\n",
    "print(\"Net_architecture:\",model.config.net_architecture)\n",
    "print(\"Net_Learning_rate:\",model.config.train_learning_rate)\n",
    "print(\"RealTime:\",model.config.isRealTime)\n",
    "print(\"DataFile:\",model.config.dataFile)"
   ]
  },
  {
   "cell_type": "code",
   "execution_count": 34,
   "id": "985ac2c3",
   "metadata": {},
   "outputs": [],
   "source": [
    "model.config.train_learning_rate = 6e-4\n",
    "model.config.train_steps_per_epoch = 100\n",
    "model.config.train_batch_size = 32\n",
    "model.config.train_n_val = 128\n"
   ]
  },
  {
   "cell_type": "code",
   "execution_count": 35,
   "id": "e2934361",
   "metadata": {},
   "outputs": [
    {
     "name": "stderr",
     "output_type": "stream",
     "text": [
      "c:\\Users\\ASUS\\anaconda3\\envs\\tensorflow-gpu\\lib\\site-packages\\keras\\optimizer_v2\\optimizer_v2.py:355: UserWarning: The `lr` argument is deprecated, use `learning_rate` instead.\n",
      "  warnings.warn(\n",
      "e:\\Project\\MeNet-AO\\Demo\\..\\utils\\psf.py:51: RuntimeWarning: invalid value encountered in sqrt\n",
      "  H = np.sqrt(1. * self.n ** 2 - KR3 ** 2 * lam_detection ** 2)\n",
      "c:\\Users\\ASUS\\anaconda3\\envs\\tensorflow-gpu\\lib\\site-packages\\keras\\engine\\training.py:1972: UserWarning: `Model.fit_generator` is deprecated and will be removed in a future version. Please use `Model.fit`, which supports generators.\n",
      "  warnings.warn('`Model.fit_generator` is deprecated and '\n"
     ]
    },
    {
     "name": "stdout",
     "output_type": "stream",
     "text": [
      "trainCheckpoint weights_best.h5\n",
      "------------------------------\n",
      "load train data...\n",
      "------------------------------\n",
      "e:\\Project\\MeNet-AO\\Demo\n",
      "(2850, 1)\n",
      "load finished\n",
      "Epoch 1/50\n",
      "100/100 [==============================] - 5s 32ms/step - loss: 0.5904 - val_loss: 0.1287\n",
      "Epoch 2/50\n",
      "100/100 [==============================] - 3s 35ms/step - loss: 0.0995 - val_loss: 0.1092\n",
      "Epoch 3/50\n",
      "100/100 [==============================] - 2s 21ms/step - loss: 0.0865 - val_loss: 0.7794\n",
      "Epoch 4/50\n",
      "100/100 [==============================] - 2s 21ms/step - loss: 0.0717 - val_loss: 0.4668\n",
      "Epoch 5/50\n",
      "100/100 [==============================] - 3s 30ms/step - loss: 0.0740 - val_loss: 0.1738\n",
      "Epoch 6/50\n",
      "100/100 [==============================] - 3s 29ms/step - loss: 0.0601 - val_loss: 0.2370\n",
      "Epoch 7/50\n",
      "100/100 [==============================] - 3s 31ms/step - loss: 0.0581 - val_loss: 0.1147\n",
      "Epoch 8/50\n",
      "100/100 [==============================] - 3s 30ms/step - loss: 0.0421 - val_loss: 0.1083\n",
      "Epoch 9/50\n",
      "100/100 [==============================] - 3s 30ms/step - loss: 0.0285 - val_loss: 0.1556\n",
      "Epoch 10/50\n",
      "100/100 [==============================] - 3s 30ms/step - loss: 0.0220 - val_loss: 0.1427\n",
      "Epoch 11/50\n",
      "100/100 [==============================] - 3s 32ms/step - loss: 0.0343 - val_loss: 0.1033\n",
      "Epoch 12/50\n",
      "100/100 [==============================] - 3s 32ms/step - loss: 0.0224 - val_loss: 0.1266\n",
      "Epoch 13/50\n",
      "100/100 [==============================] - 3s 30ms/step - loss: 0.0243 - val_loss: 0.1958\n",
      "Epoch 14/50\n",
      "100/100 [==============================] - 3s 29ms/step - loss: 0.0263 - val_loss: 0.1092\n",
      "Epoch 15/50\n",
      "100/100 [==============================] - 3s 35ms/step - loss: 0.0198 - val_loss: 0.1785\n",
      "Epoch 16/50\n",
      "100/100 [==============================] - 3s 33ms/step - loss: 0.0204 - val_loss: 0.1174\n",
      "Epoch 17/50\n",
      "100/100 [==============================] - 3s 31ms/step - loss: 0.0278 - val_loss: 0.1157\n",
      "Epoch 18/50\n",
      "100/100 [==============================] - 3s 31ms/step - loss: 0.0216 - val_loss: 0.1399\n",
      "Epoch 19/50\n",
      "100/100 [==============================] - 3s 34ms/step - loss: 0.0142 - val_loss: 0.1040\n",
      "Epoch 20/50\n",
      "100/100 [==============================] - 3s 29ms/step - loss: 0.0197 - val_loss: 0.1389\n",
      "Epoch 21/50\n",
      "100/100 [==============================] - 3s 31ms/step - loss: 0.0200 - val_loss: 0.1218\n",
      "Epoch 22/50\n",
      "100/100 [==============================] - 3s 30ms/step - loss: 0.0113 - val_loss: 0.1006\n",
      "Epoch 23/50\n",
      "100/100 [==============================] - 3s 33ms/step - loss: 0.0071 - val_loss: 0.1168\n",
      "Epoch 24/50\n",
      "100/100 [==============================] - 3s 29ms/step - loss: 0.0077 - val_loss: 0.1078\n",
      "Epoch 25/50\n",
      "100/100 [==============================] - 3s 30ms/step - loss: 0.0076 - val_loss: 0.1158\n",
      "Epoch 26/50\n",
      "100/100 [==============================] - 3s 32ms/step - loss: 0.0079 - val_loss: 0.1049\n",
      "Epoch 27/50\n",
      "100/100 [==============================] - 3s 29ms/step - loss: 0.0080 - val_loss: 0.1338\n",
      "Epoch 28/50\n",
      "100/100 [==============================] - 3s 30ms/step - loss: 0.0135 - val_loss: 0.1360\n",
      "Epoch 29/50\n",
      "100/100 [==============================] - 3s 32ms/step - loss: 0.0079 - val_loss: 0.1111\n",
      "Epoch 30/50\n",
      "100/100 [==============================] - 3s 29ms/step - loss: 0.0054 - val_loss: 0.1201\n",
      "Epoch 31/50\n",
      "100/100 [==============================] - 3s 30ms/step - loss: 0.0091 - val_loss: 0.1122\n",
      "Epoch 32/50\n",
      "100/100 [==============================] - 3s 31ms/step - loss: 0.0087 - val_loss: 0.0998\n",
      "Epoch 33/50\n",
      "100/100 [==============================] - 3s 29ms/step - loss: 0.0091 - val_loss: 0.1088\n",
      "Epoch 34/50\n",
      "100/100 [==============================] - 3s 29ms/step - loss: 0.0080 - val_loss: 0.1060\n",
      "Epoch 35/50\n",
      "100/100 [==============================] - 3s 31ms/step - loss: 0.0075 - val_loss: 0.1091\n",
      "Epoch 36/50\n",
      "100/100 [==============================] - 3s 34ms/step - loss: 0.0079 - val_loss: 0.1085\n",
      "Epoch 37/50\n",
      "100/100 [==============================] - 3s 34ms/step - loss: 0.0092 - val_loss: 0.1023\n",
      "Epoch 38/50\n",
      "100/100 [==============================] - 4s 35ms/step - loss: 0.0111 - val_loss: 0.1166\n",
      "Epoch 39/50\n",
      "100/100 [==============================] - 3s 34ms/step - loss: 0.0083 - val_loss: 0.1189\n",
      "Epoch 40/50\n",
      "100/100 [==============================] - 4s 35ms/step - loss: 0.0095 - val_loss: 0.1154\n",
      "Epoch 41/50\n",
      "100/100 [==============================] - 3s 34ms/step - loss: 0.0076 - val_loss: 0.1301\n",
      "Epoch 42/50\n",
      "100/100 [==============================] - 3s 32ms/step - loss: 0.0072 - val_loss: 0.0977\n",
      "Epoch 43/50\n",
      "100/100 [==============================] - 3s 32ms/step - loss: 0.0084 - val_loss: 0.1069\n",
      "Epoch 44/50\n",
      "100/100 [==============================] - 3s 30ms/step - loss: 0.0076 - val_loss: 0.1005\n",
      "Epoch 45/50\n",
      "100/100 [==============================] - 3s 30ms/step - loss: 0.0080 - val_loss: 0.1116\n",
      "Epoch 46/50\n",
      "100/100 [==============================] - 3s 31ms/step - loss: 0.0061 - val_loss: 0.1138\n",
      "Epoch 47/50\n",
      "100/100 [==============================] - 3s 30ms/step - loss: 0.0073 - val_loss: 0.1206\n",
      "Epoch 48/50\n",
      "100/100 [==============================] - 3s 30ms/step - loss: 0.0081 - val_loss: 0.1080\n",
      "Epoch 49/50\n",
      "100/100 [==============================] - 3s 32ms/step - loss: 0.0089 - val_loss: 0.1002\n",
      "Epoch 50/50\n",
      "100/100 [==============================] - 3s 30ms/step - loss: 0.0085 - val_loss: 0.1086\n",
      "\n",
      "Loading network weights from 'weights_best.h5'.\n"
     ]
    },
    {
     "data": {
      "text/plain": [
       "<keras.callbacks.History at 0x2d86ff1bbe0>"
      ]
     },
     "execution_count": 35,
     "metadata": {},
     "output_type": "execute_result"
    }
   ],
   "source": [
    "model.train(epochs=50)"
   ]
  },
  {
   "cell_type": "markdown",
   "id": "25e38141",
   "metadata": {},
   "source": [
    "## load test dataset"
   ]
  },
  {
   "cell_type": "code",
   "execution_count": 8,
   "id": "cbe5338f",
   "metadata": {},
   "outputs": [],
   "source": [
    "test_data = np.load(model.config.dataFile+'data_test.npz')\n",
    "X1_test = test_data['X1_test']\n",
    "Y_test = test_data['Y_test']"
   ]
  },
  {
   "cell_type": "code",
   "execution_count": 9,
   "id": "9681c39e",
   "metadata": {},
   "outputs": [],
   "source": [
    "X = X1_test\n",
    "gt = Y_test"
   ]
  },
  {
   "cell_type": "markdown",
   "id": "39bae159",
   "metadata": {},
   "source": [
    "## Predict"
   ]
  },
  {
   "cell_type": "code",
   "execution_count": null,
   "id": "d71bcb27",
   "metadata": {},
   "outputs": [],
   "source": [
    "zerns_noll = []\n",
    "for k in model.config.zernike_amplitude_ranges.keys():\n",
    "    zerns_noll.append(int(k))\n",
    "pre = model.keras_model.predict(X)"
   ]
  },
  {
   "cell_type": "markdown",
   "id": "a6a43f7e",
   "metadata": {},
   "source": [
    "## Results Evaluation"
   ]
  },
  {
   "cell_type": "code",
   "execution_count": 15,
   "id": "5b511370",
   "metadata": {},
   "outputs": [
    {
     "data": {
      "image/png": "[encoded data removed]",
      "text/plain": [
       "<Figure size 2400x1000 with 1 Axes>"
      ]
     },
     "metadata": {},
     "output_type": "display_data"
    }
   ],
   "source": [
    "plt.figure(figsize=(24, 10),facecolor='w',edgecolor='w')\n",
    "mode_num = 0\n",
    "# rangeLimit = model.config.zernike_amplitude_ranges['5']\n",
    "# lower_limit,upper_limit = rangeLimit[0]-0.05,rangeLimit[1]+0.05\n",
    "lower_limit,upper_limit = -0.5-0.05,0.5+0.05\n",
    "for j in range(gt.shape[1]):\n",
    "    plt.subplot(2,4,j+1)\n",
    "    #ax = plt.subplot(2,2,j+1).add_axes((0.14, .12, .8, .77))\n",
    "    ax = plt.gca()\n",
    "    for i in range(gt.shape[0]):\n",
    "        # ax.plot(gt[i][mode_num],tmp[i][mode_num],\"o\",color=colors[i], markersize=4)\n",
    "        ax.plot(gt[i][mode_num],pre[i][mode_num],\"o\",color='black', markersize=4)\n",
    "    \n",
    "    # plt.ylim(lower_limit,upper_limit)\n",
    "    # plt.xlim(lower_limit,upper_limit)\n",
    "    # plt.grid(False)\n",
    "\n",
    "\n",
    "    plt.xlabel(f'Experimentally introduced amplitude for $\\mathbf{{Z_{{{zerns_noll[mode_num]}}}}}$ / $\\mathbf{{\\mu m}}$' , \n",
    "               size=12, fontweight='bold', labelpad=4)\n",
    "    plt.ylabel(f'Predicted amplitude $\\mathbf{{a_{{{zerns_noll[mode_num]}}}}}$ / $\\mathbf{{\\mu m}}$', \n",
    "               size=12, fontweight='bold', labelpad=-5)\n",
    "    ax.spines['right'].set_visible(False)\n",
    "    ax.spines['top'].set_visible(False)\n",
    "    ax.spines['bottom'].set_linewidth(2)  # x轴加粗\n",
    "    ax.spines['left'].set_linewidth(2)    # y轴加粗\n",
    "\n",
    "    plt.yticks(size=14,color=\"black\", fontweight='bold')\n",
    "    plt.xticks(size=14,color=\"black\", fontweight='bold')\n",
    "    # plt.ylim(lower_limit,upper_limit)\n",
    "    # plt.xlim(lower_limit,upper_limit)\n",
    "\n",
    "    # sm = plt.cm.ScalarMappable(cmap=cmap, norm=norm)\n",
    "    # sm.set_array([])  # 为空数组\n",
    "    # plt.colorbar(sm, ax=ax, label='Color Scale')\n",
    "\n",
    "    XX = np.linspace(lower_limit, upper_limit, num=50)\n",
    "    YY = 1 * XX\n",
    "    ax.plot(XX, YY, ls=\"--\", color = \"k\")\n",
    "\n",
    "    mode_num = mode_num+1\n",
    "    \n"
   ]
  }
 ],
 "metadata": {
  "kernelspec": {
   "display_name": "tensorflow-gpu",
   "language": "python",
   "name": "python3"
  },
  "language_info": {
   "codemirror_mode": {
    "name": "ipython",
    "version": 3
   },
   "file_extension": ".py",
   "mimetype": "text/x-python",
   "name": "python",
   "nbconvert_exporter": "python",
   "pygments_lexer": "ipython3",
   "version": "3.9.13"
  }
 },
 "nbformat": 4,
 "nbformat_minor": 5
}
