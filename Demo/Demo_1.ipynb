{
 "cells": [
  {
   "cell_type": "code",
   "execution_count": 1,
   "id": "c55d5390",
   "metadata": {},
   "outputs": [],
   "source": [
    "import sys\n",
    "sys.path.append(r'..') \n",
    "import os\n",
    "os.environ[\"KMP_DUPLICATE_LIB_OK\"]=\"TRUE\"\n",
    "\n",
    "from model.model import MeNet\n",
    "from model.Gdata import Data\n",
    "from model.config import Config\n",
    "from tqdm import tqdm\n",
    "import matplotlib.pyplot as plt \n",
    "import numpy as np\n",
    "import json"
   ]
  },
  {
   "cell_type": "markdown",
   "id": "d638d880",
   "metadata": {},
   "source": [
    "## This demo reproduces the results corresponding to Figure 1b, where $Z_{5}$ Oblique astigmatism is shown to provide superior multi-modal predictability when used as the modulated aberration."
   ]
  },
  {
   "cell_type": "code",
   "execution_count": 2,
   "id": "66debfc0",
   "metadata": {},
   "outputs": [],
   "source": [
    "def load_json_file(fpath):\n",
    "    with open(fpath, 'r') as f:\n",
    "        data = json.load(f)\n",
    "    return data"
   ]
  },
  {
   "cell_type": "code",
   "execution_count": 3,
   "id": "5ef31f4a",
   "metadata": {},
   "outputs": [
    {
     "name": "stdout",
     "output_type": "stream",
     "text": [
      "Modulation: {'5': 0.2}\n",
      "Initial Mode Ranges: {'5': 0.5}\n"
     ]
    }
   ],
   "source": [
    "\n",
    "file_path = '../DataSet/Demo1/astig5/'\n",
    "\n",
    "data = load_json_file(str(file_path+'/config.json'))\n",
    "\n",
    "print('Modulation:',data['modulate_aber'])\n",
    "print('Initial Mode Ranges:',data['zernike_amplitude_ranges'])"
   ]
  },
  {
   "cell_type": "markdown",
   "id": "a475f1ac",
   "metadata": {},
   "source": [
    "## Import and set up the parameters"
   ]
  },
  {
   "cell_type": "code",
   "execution_count": 4,
   "id": "f778b5f9",
   "metadata": {},
   "outputs": [],
   "source": [
    "net_architecture = 'singleEncoder' \n",
    "c = Config(zernike_amplitude_ranges=data['zernike_amplitude_ranges'],\n",
    "           modulate_aber=data['modulate_aber'],net_architecture = net_architecture,\n",
    "           isMultiStream = 1,isRealTime = False,psf_na_detection=data['psf_na_detection'], \n",
    "           psf_units=tuple(data['psf_units']), psf_n=data['psf_n'], \n",
    "           psf_lam_detection=data['psf_lam_detection'],dataFile = data['dataFile'], \n",
    "           isRegular = data['isRegular'], regularValue = data['regularValue'])\n",
    "#vars(c)"
   ]
  },
  {
   "cell_type": "markdown",
   "id": "7df88bd3",
   "metadata": {},
   "source": [
    "## Setup the model"
   ]
  },
  {
   "cell_type": "code",
   "execution_count": 5,
   "id": "cb41666d",
   "metadata": {},
   "outputs": [
    {
     "name": "stdout",
     "output_type": "stream",
     "text": [
      "input_shape (32, 32, 2)\n",
      "output_size: 1\n"
     ]
    }
   ],
   "source": [
    "model = MeNet(config=c, name='Initial_astig5', basedir='Demo1//')"
   ]
  },
  {
   "cell_type": "markdown",
   "id": "9780867d",
   "metadata": {},
   "source": [
    "## Check/Set the model parameters and train the model"
   ]
  },
  {
   "cell_type": "code",
   "execution_count": 6,
   "id": "06e44c79",
   "metadata": {},
   "outputs": [
    {
     "name": "stdout",
     "output_type": "stream",
     "text": [
      "MultiStream\n",
      "Net_architecture: singleEncoder\n",
      "Batch_size: 32\n",
      "train_steps_per_epoch: 1000\n",
      "The number of predicted aberrations: 1\n",
      "Range of predicted aberrations:  {'5': 0.5}\n",
      "Induced bias : {'5': 0.2}\n",
      "Net_architecture: singleEncoder\n",
      "Net_Learning_rate: 0.0006\n",
      "RealTime: False\n",
      "DataFile: ../DataSet/Demo1/astig5/\n"
     ]
    }
   ],
   "source": [
    "print((\"MultiStream\" if model.config.isMultiStream else \"SingleStream\"))\n",
    "print(\"Net_architecture:\",model.config.net_architecture)\n",
    "print(\"Batch_size:\",model.config.train_batch_size)\n",
    "print(\"train_steps_per_epoch:\",model.config.train_steps_per_epoch)\n",
    "print(\"The number of predicted aberrations:\",model.config.n_channel_out)\n",
    "print(\"Range of predicted aberrations: \",model.config.zernike_amplitude_ranges)\n",
    "print(\"Induced bias :\",model.config.modulate_aber)\n",
    "print(\"Net_architecture:\",model.config.net_architecture)\n",
    "print(\"Net_Learning_rate:\",model.config.train_learning_rate)\n",
    "print(\"RealTime:\",model.config.isRealTime)\n",
    "print(\"DataFile:\",model.config.dataFile)"
   ]
  },
  {
   "cell_type": "code",
   "execution_count": 7,
   "id": "985ac2c3",
   "metadata": {},
   "outputs": [],
   "source": [
    "model.config.train_learning_rate = 6e-4\n",
    "model.config.train_steps_per_epoch = 100\n",
    "model.config.train_batch_size = 32\n",
    "model.config.train_n_val = 128\n"
   ]
  },
  {
   "cell_type": "code",
   "execution_count": 8,
   "id": "e2934361",
   "metadata": {},
   "outputs": [
    {
     "name": "stderr",
     "output_type": "stream",
     "text": [
      "c:\\Users\\ASUS\\anaconda3\\envs\\tensorflow-gpu\\lib\\site-packages\\keras\\optimizer_v2\\optimizer_v2.py:355: UserWarning: The `lr` argument is deprecated, use `learning_rate` instead.\n",
      "  warnings.warn(\n",
      "e:\\Project\\MeNet-AO\\Demo\\..\\utils\\psf.py:51: RuntimeWarning: invalid value encountered in sqrt\n",
      "  H = np.sqrt(1. * self.n ** 2 - KR3 ** 2 * lam_detection ** 2)\n",
      "c:\\Users\\ASUS\\anaconda3\\envs\\tensorflow-gpu\\lib\\site-packages\\keras\\engine\\training.py:1972: UserWarning: `Model.fit_generator` is deprecated and will be removed in a future version. Please use `Model.fit`, which supports generators.\n",
      "  warnings.warn('`Model.fit_generator` is deprecated and '\n"
     ]
    },
    {
     "name": "stdout",
     "output_type": "stream",
     "text": [
      "trainCheckpoint weights_best.h5\n",
      "------------------------------\n",
      "load train data...\n",
      "------------------------------\n",
      "e:\\Project\\MeNet-AO\\Demo\n",
      "(2400, 1)\n",
      "load finished\n",
      "Epoch 1/50\n",
      "100/100 [==============================] - 7s 25ms/step - loss: 1.3301 - val_loss: 0.4973\n",
      "Epoch 2/50\n",
      "100/100 [==============================] - 2s 20ms/step - loss: 0.0602 - val_loss: 0.1166\n",
      "Epoch 3/50\n",
      "100/100 [==============================] - 2s 20ms/step - loss: 0.0418 - val_loss: 0.2244\n",
      "Epoch 4/50\n",
      "100/100 [==============================] - 2s 20ms/step - loss: 0.0072 - val_loss: 0.1940\n",
      "Epoch 5/50\n",
      "100/100 [==============================] - 2s 20ms/step - loss: 0.0052 - val_loss: 0.1266\n",
      "Epoch 6/50\n",
      "100/100 [==============================] - 2s 20ms/step - loss: 0.0049 - val_loss: 0.0769\n",
      "Epoch 7/50\n",
      "100/100 [==============================] - 2s 19ms/step - loss: 0.0062 - val_loss: 0.0295\n",
      "Epoch 8/50\n",
      "100/100 [==============================] - 2s 19ms/step - loss: 0.0086 - val_loss: 0.0052\n",
      "Epoch 9/50\n",
      "100/100 [==============================] - 2s 19ms/step - loss: 0.0058 - val_loss: 0.0037\n",
      "Epoch 10/50\n",
      "100/100 [==============================] - 2s 19ms/step - loss: 0.0047 - val_loss: 0.0153\n",
      "Epoch 11/50\n",
      "100/100 [==============================] - 2s 19ms/step - loss: 0.0033 - val_loss: 0.0078\n",
      "Epoch 12/50\n",
      "100/100 [==============================] - 2s 20ms/step - loss: 0.0056 - val_loss: 0.0047\n",
      "Epoch 13/50\n",
      "100/100 [==============================] - 2s 19ms/step - loss: 0.0038 - val_loss: 0.0074\n",
      "Epoch 14/50\n",
      "100/100 [==============================] - 2s 20ms/step - loss: 0.0036 - val_loss: 0.0152\n",
      "Epoch 15/50\n",
      "100/100 [==============================] - 2s 19ms/step - loss: 0.0072 - val_loss: 0.0143\n",
      "Epoch 16/50\n",
      "100/100 [==============================] - 2s 20ms/step - loss: 0.0048 - val_loss: 0.0037\n",
      "Epoch 17/50\n",
      "100/100 [==============================] - 2s 19ms/step - loss: 0.0035 - val_loss: 0.0034\n",
      "Epoch 18/50\n",
      "100/100 [==============================] - 2s 20ms/step - loss: 0.0030 - val_loss: 0.0076\n",
      "Epoch 19/50\n",
      "100/100 [==============================] - 2s 20ms/step - loss: 0.0032 - val_loss: 0.0902\n",
      "Epoch 20/50\n",
      "100/100 [==============================] - 2s 20ms/step - loss: 0.0069 - val_loss: 0.0458\n",
      "Epoch 21/50\n",
      "100/100 [==============================] - 2s 19ms/step - loss: 0.0118 - val_loss: 0.0174\n",
      "Epoch 22/50\n",
      "100/100 [==============================] - 2s 19ms/step - loss: 0.0055 - val_loss: 0.0093\n",
      "Epoch 23/50\n",
      "100/100 [==============================] - 2s 20ms/step - loss: 0.0037 - val_loss: 0.0038\n",
      "Epoch 24/50\n",
      "100/100 [==============================] - 2s 20ms/step - loss: 0.0115 - val_loss: 0.0083\n",
      "Epoch 25/50\n",
      "100/100 [==============================] - 2s 19ms/step - loss: 0.0076 - val_loss: 0.0057\n",
      "Epoch 26/50\n",
      "100/100 [==============================] - 2s 19ms/step - loss: 0.0026 - val_loss: 0.0033\n",
      "Epoch 27/50\n",
      "100/100 [==============================] - 2s 19ms/step - loss: 0.0021 - val_loss: 0.0027\n",
      "Epoch 28/50\n",
      "100/100 [==============================] - 2s 19ms/step - loss: 0.0028 - val_loss: 0.0092\n",
      "Epoch 29/50\n",
      "100/100 [==============================] - 2s 20ms/step - loss: 0.0016 - val_loss: 0.0027\n",
      "Epoch 30/50\n",
      "100/100 [==============================] - 2s 18ms/step - loss: 0.0024 - val_loss: 0.0036\n",
      "Epoch 31/50\n",
      "100/100 [==============================] - 2s 20ms/step - loss: 0.0029 - val_loss: 0.0035\n",
      "Epoch 32/50\n",
      "100/100 [==============================] - 2s 20ms/step - loss: 0.0020 - val_loss: 0.0016\n",
      "Epoch 33/50\n",
      "100/100 [==============================] - 2s 20ms/step - loss: 0.0027 - val_loss: 0.0058\n",
      "Epoch 34/50\n",
      "100/100 [==============================] - 2s 19ms/step - loss: 0.0086 - val_loss: 0.0228\n",
      "Epoch 35/50\n",
      "100/100 [==============================] - 2s 20ms/step - loss: 0.0039 - val_loss: 0.0167\n",
      "Epoch 36/50\n",
      "100/100 [==============================] - 2s 20ms/step - loss: 0.0069 - val_loss: 0.0026\n",
      "Epoch 37/50\n",
      "100/100 [==============================] - 2s 19ms/step - loss: 0.0086 - val_loss: 0.0046\n",
      "Epoch 38/50\n",
      "100/100 [==============================] - 2s 20ms/step - loss: 0.0076 - val_loss: 0.0040\n",
      "Epoch 39/50\n",
      "100/100 [==============================] - 2s 19ms/step - loss: 0.0030 - val_loss: 0.0035\n",
      "Epoch 40/50\n",
      "100/100 [==============================] - 2s 19ms/step - loss: 0.0028 - val_loss: 0.0029\n",
      "Epoch 41/50\n",
      "100/100 [==============================] - 2s 18ms/step - loss: 0.0014 - val_loss: 0.0032\n",
      "Epoch 42/50\n",
      "100/100 [==============================] - 2s 19ms/step - loss: 0.0018 - val_loss: 0.0023\n",
      "Epoch 43/50\n",
      "100/100 [==============================] - 2s 19ms/step - loss: 9.8581e-04 - val_loss: 0.0029\n",
      "Epoch 44/50\n",
      "100/100 [==============================] - 2s 19ms/step - loss: 8.4193e-04 - val_loss: 0.0033\n",
      "Epoch 45/50\n",
      "100/100 [==============================] - 2s 19ms/step - loss: 9.7715e-04 - val_loss: 0.0053\n",
      "Epoch 46/50\n",
      "100/100 [==============================] - 2s 20ms/step - loss: 8.7087e-04 - val_loss: 0.0035\n",
      "Epoch 47/50\n",
      "100/100 [==============================] - 2s 19ms/step - loss: 0.0010 - val_loss: 0.0019\n",
      "Epoch 48/50\n",
      "100/100 [==============================] - 2s 19ms/step - loss: 7.5463e-04 - val_loss: 0.0058\n",
      "Epoch 49/50\n",
      "100/100 [==============================] - 2s 19ms/step - loss: 9.8601e-04 - val_loss: 0.0029\n",
      "Epoch 50/50\n",
      "100/100 [==============================] - 2s 19ms/step - loss: 6.3488e-04 - val_loss: 0.0016\n",
      "\n",
      "Loading network weights from 'weights_best.h5'.\n"
     ]
    },
    {
     "data": {
      "text/plain": [
       "<keras.callbacks.History at 0x1d7c3613e80>"
      ]
     },
     "execution_count": 8,
     "metadata": {},
     "output_type": "execute_result"
    }
   ],
   "source": [
    "model.train(epochs=50)"
   ]
  },
  {
   "cell_type": "markdown",
   "id": "149387a7",
   "metadata": {},
   "source": [
    "## load test dataset"
   ]
  },
  {
   "cell_type": "code",
   "execution_count": 9,
   "id": "3ab16937",
   "metadata": {},
   "outputs": [],
   "source": [
    "test_data = np.load(model.config.dataFile+'data_test.npz')\n",
    "X1_test = test_data['X1_test']\n",
    "Y_test = test_data['Y_test']"
   ]
  },
  {
   "cell_type": "code",
   "execution_count": 10,
   "id": "d87e4513",
   "metadata": {},
   "outputs": [],
   "source": [
    "X = X1_test\n",
    "gt = Y_test"
   ]
  },
  {
   "cell_type": "markdown",
   "id": "4a67367f",
   "metadata": {},
   "source": [
    "## Predict"
   ]
  },
  {
   "cell_type": "code",
   "execution_count": 11,
   "id": "9d73677c",
   "metadata": {},
   "outputs": [],
   "source": [
    "zerns_noll = []\n",
    "for k in model.config.zernike_amplitude_ranges.keys():\n",
    "    zerns_noll.append(int(k))\n",
    "pre = model.keras_model.predict(X)"
   ]
  },
  {
   "cell_type": "markdown",
   "id": "d415849a",
   "metadata": {},
   "source": [
    "## Results Evaluation"
   ]
  },
  {
   "cell_type": "code",
   "execution_count": 12,
   "id": "5b511370",
   "metadata": {},
   "outputs": [
    {
     "data": {
      "image/png": "[encoded data removed]",
      "text/plain": [
       "<Figure size 2400x1000 with 1 Axes>"
      ]
     },
     "metadata": {},
     "output_type": "display_data"
    }
   ],
   "source": [
    "plt.figure(figsize=(24, 10),facecolor='w',edgecolor='w')\n",
    "mode_num = 0\n",
    "lower_limit,upper_limit = -0.5-0.05,0.5+0.05\n",
    "for j in range(gt.shape[1]):\n",
    "    plt.subplot(2,4,j+1)\n",
    "    ax = plt.gca()\n",
    "    for i in range(gt.shape[0]):\n",
    "        ax.plot(gt[i][mode_num],pre[i][mode_num],\"o\",color='black', markersize=4)\n",
    "    \n",
    "    plt.xlabel(f'Experimentally introduced amplitude for $\\mathbf{{Z_{{{zerns_noll[mode_num]}}}}}$ / $\\mathbf{{\\mu m}}$' , \n",
    "               size=12, fontweight='bold', labelpad=4)\n",
    "    plt.ylabel(f'Predicted amplitude $\\mathbf{{a_{{{zerns_noll[mode_num]}}}}}$ / $\\mathbf{{\\mu m}}$', \n",
    "               size=12, fontweight='bold', labelpad=-5)\n",
    "    ax.spines['right'].set_visible(False)\n",
    "    ax.spines['top'].set_visible(False)\n",
    "    ax.spines['bottom'].set_linewidth(2)  # x轴加粗\n",
    "    ax.spines['left'].set_linewidth(2)    # y轴加粗\n",
    "\n",
    "    plt.yticks(size=14,color=\"black\", fontweight='bold')\n",
    "    plt.xticks(size=14,color=\"black\", fontweight='bold')\n",
    "    plt.ylim(lower_limit,upper_limit)\n",
    "    plt.xlim(lower_limit,upper_limit)\n",
    "\n",
    "    XX = np.linspace(lower_limit, upper_limit, num=50)\n",
    "    YY = 1 * XX\n",
    "    ax.plot(XX, YY, ls=\"--\", color = \"k\")\n",
    "\n",
    "    mode_num = mode_num+1\n",
    "    \n"
   ]
  }
 ],
 "metadata": {
  "kernelspec": {
   "display_name": "tensorflow-gpu",
   "language": "python",
   "name": "python3"
  },
  "language_info": {
   "codemirror_mode": {
    "name": "ipython",
    "version": 3
   },
   "file_extension": ".py",
   "mimetype": "text/x-python",
   "name": "python",
   "nbconvert_exporter": "python",
   "pygments_lexer": "ipython3",
   "version": "3.9.13"
  }
 },
 "nbformat": 4,
 "nbformat_minor": 5
}
