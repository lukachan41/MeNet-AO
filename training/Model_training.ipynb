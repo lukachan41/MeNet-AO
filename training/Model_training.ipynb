{
 "cells": [
  {
   "cell_type": "code",
   "execution_count": 1,
   "metadata": {},
   "outputs": [
    {
     "name": "stdout",
     "output_type": "stream",
     "text": [
      "GPU Tools False\n"
     ]
    }
   ],
   "source": [
    "import sys\n",
    "sys.path.append(r'..') \n",
    "import os\n",
    "os.environ[\"KMP_DUPLICATE_LIB_OK\"]=\"TRUE\"\n",
    "\n",
    "from model.model import MeNet\n",
    "from model.Gdata import Data\n",
    "from model.config import Config\n",
    "from tqdm import tqdm\n",
    "import matplotlib.pyplot as plt \n",
    "import numpy as np\n",
    "import json"
   ]
  },
  {
   "cell_type": "code",
   "execution_count": 2,
   "metadata": {},
   "outputs": [],
   "source": [
    "def load_json_file(fpath):\n",
    "    with open(fpath, 'r') as f:\n",
    "        data = json.load(f)\n",
    "    return data"
   ]
  },
  {
   "cell_type": "code",
   "execution_count": 3,
   "metadata": {},
   "outputs": [],
   "source": [
    "# AO_TPEFM\n",
    "zern = [5,6,7,8,9,10,11]\n",
    "# zern = [5]\n",
    "# amp_range = [0.5]*len(zern)    \n",
    "amp_range = [[-0.3,0.3]]*len(zern) \n",
    "amps = dict(zip(zern, amp_range))  \n",
    "# bias = {5:0.4,6:0.4,7:0.1,8:0.1}\n",
    "# net_architecture = 'biasEncoder'\n",
    "bias = {5:0.2,6:0.2,11:0.2}\n",
    "net_architecture = 'threeStreamRes2D'\n",
    "# net_architecture = \"resnet\"\n",
    "\n",
    "c = Config(zernike_amplitude_ranges=amps,bias_aber=bias,\n",
    "           net_architecture = net_architecture,\n",
    "           isMultiStream = 3,isRealTime = False,\n",
    "           psf_na_detection=1.05, psf_units=(0.1,0.1,0.1), psf_n=1.33, \n",
    "           psf_lam_detection=0.920,)\n",
    "# vars(c)"
   ]
  },
  {
   "cell_type": "code",
   "execution_count": 4,
   "metadata": {},
   "outputs": [
    {
     "ename": "FileNotFoundError",
     "evalue": "[Errno 2] No such file or directory: '../DataSet/SimulationLast/R1_Uniform_coma7Mag_fournitial/Coma7_3/config.json'",
     "output_type": "error",
     "traceback": [
      "\u001b[1;31m---------------------------------------------------------------------------\u001b[0m",
      "\u001b[1;31mFileNotFoundError\u001b[0m                         Traceback (most recent call last)",
      "Input \u001b[1;32mIn [4]\u001b[0m, in \u001b[0;36m<cell line: 7>\u001b[1;34m()\u001b[0m\n\u001b[0;32m      3\u001b[0m file_path \u001b[38;5;241m=\u001b[39m \u001b[38;5;124m'\u001b[39m\u001b[38;5;124m../DataSet/SimulationLast/R1_Uniform_coma7Mag_fournitial/Coma7_3\u001b[39m\u001b[38;5;124m'\u001b[39m\n\u001b[0;32m      5\u001b[0m \u001b[38;5;66;03m# file_path = '../DataSet/AO_TPEFM/EE1/EE2/'\u001b[39;00m\n\u001b[1;32m----> 7\u001b[0m data \u001b[38;5;241m=\u001b[39m \u001b[43mload_json_file\u001b[49m\u001b[43m(\u001b[49m\u001b[38;5;28;43mstr\u001b[39;49m\u001b[43m(\u001b[49m\u001b[43mfile_path\u001b[49m\u001b[38;5;241;43m+\u001b[39;49m\u001b[38;5;124;43m'\u001b[39;49m\u001b[38;5;124;43m/config.json\u001b[39;49m\u001b[38;5;124;43m'\u001b[39;49m\u001b[43m)\u001b[49m\u001b[43m)\u001b[49m\n\u001b[0;32m      9\u001b[0m \u001b[38;5;28mprint\u001b[39m(\u001b[38;5;124m'\u001b[39m\u001b[38;5;124mBias:\u001b[39m\u001b[38;5;124m'\u001b[39m,data[\u001b[38;5;124m'\u001b[39m\u001b[38;5;124mbias_aber\u001b[39m\u001b[38;5;124m'\u001b[39m])\n\u001b[0;32m     10\u001b[0m \u001b[38;5;28mprint\u001b[39m(\u001b[38;5;124m'\u001b[39m\u001b[38;5;124mMode Ranges:\u001b[39m\u001b[38;5;124m'\u001b[39m,data[\u001b[38;5;124m'\u001b[39m\u001b[38;5;124mzernike_amplitude_ranges\u001b[39m\u001b[38;5;124m'\u001b[39m])\n",
      "Input \u001b[1;32mIn [2]\u001b[0m, in \u001b[0;36mload_json_file\u001b[1;34m(fpath)\u001b[0m\n\u001b[0;32m      1\u001b[0m \u001b[38;5;28;01mdef\u001b[39;00m \u001b[38;5;21mload_json_file\u001b[39m(fpath):\n\u001b[1;32m----> 2\u001b[0m     \u001b[38;5;28;01mwith\u001b[39;00m \u001b[38;5;28;43mopen\u001b[39;49m\u001b[43m(\u001b[49m\u001b[43mfpath\u001b[49m\u001b[43m,\u001b[49m\u001b[43m \u001b[49m\u001b[38;5;124;43m'\u001b[39;49m\u001b[38;5;124;43mr\u001b[39;49m\u001b[38;5;124;43m'\u001b[39;49m\u001b[43m)\u001b[49m \u001b[38;5;28;01mas\u001b[39;00m f:\n\u001b[0;32m      3\u001b[0m         data \u001b[38;5;241m=\u001b[39m json\u001b[38;5;241m.\u001b[39mload(f)\n\u001b[0;32m      4\u001b[0m     \u001b[38;5;28;01mreturn\u001b[39;00m data\n",
      "\u001b[1;31mFileNotFoundError\u001b[0m: [Errno 2] No such file or directory: '../DataSet/SimulationLast/R1_Uniform_coma7Mag_fournitial/Coma7_3/config.json'"
     ]
    }
   ],
   "source": [
    "import numpy as np\n",
    "# file_path = '../DataSet/Last_data/T/T1/'\n",
    "file_path = '../DataSet/SimulationLast/R1_Uniform_coma7Mag_fournitial/Coma7_3'\n",
    "\n",
    "# file_path = '../DataSet/AO_TPEFM/EE1/EE2/'\n",
    "\n",
    "data = load_json_file(str(file_path+'/config.json'))\n",
    "\n",
    "print('Bias:',data['bias_aber'])\n",
    "print('Mode Ranges:',data['zernike_amplitude_ranges'])\n",
    "print('NA:',data['psf_na_detection']) \n",
    "print('Wavelength:',data['psf_lam_detection'])\n",
    "print('Refractive Index:',data['psf_n'])\n",
    "print('PSF_units',data['psf_units'])"
   ]
  },
  {
   "cell_type": "code",
   "execution_count": null,
   "metadata": {},
   "outputs": [],
   "source": [
    "X =np.load(file_path+'/X.npy',allow_pickle=True)\n",
    "# X = np.concatenate((X1,X2),axis=-1)\n",
    "Y =np.load(file_path+'/Y.npy')"
   ]
  },
  {
   "cell_type": "code",
   "execution_count": null,
   "metadata": {},
   "outputs": [],
   "source": [
    "X=X.item()\n",
    "X=X['X1']"
   ]
  },
  {
   "cell_type": "code",
   "execution_count": null,
   "metadata": {},
   "outputs": [],
   "source": [
    "# X =np.load(file_path+'X.npy')\n",
    "X1 =np.load(file_path+'X1.npy')\n",
    "X2 =np.load(file_path+'X2.npy')\n",
    "X3 =np.load(file_path+'X3.npy')\n",
    "# X4 =np.load(file_path+'X5.npy')\n",
    "# X = np.concatenate((X1,X2),axis=-1)\n",
    "Y =np.load(file_path+'Y.npy')"
   ]
  },
  {
   "cell_type": "code",
   "execution_count": null,
   "metadata": {},
   "outputs": [],
   "source": [
    "from phasenet.zernike import ZernikeWavefront\n",
    "\n",
    "# Y = data\n",
    "rmse = []\n",
    "gt = np.zeros(7)\n",
    "zerns_noll = [5,6,7,8,9,10,11]\n",
    "for i in range(Y.shape[0]):\n",
    "    pre_tmp = dict(zip(zerns_noll,Y[i]))\n",
    "    p_wavefront = ZernikeWavefront(pre_tmp, order='noll') \n",
    "    gt_tmp = dict(zip(zerns_noll,gt))\n",
    "    gt_wavefront = ZernikeWavefront(gt_tmp, order='noll') \n",
    "    rmse.append(np.sqrt(np.nanmean((gt_wavefront.polynomial(32)-p_wavefront.polynomial(32))**2)))\n",
    "rmse = np.array(rmse)\n",
    "indices = np.where(rmse < 0.5)[0]\n",
    "print('Wavefront RMS < 0.5:',len(indices))"
   ]
  },
  {
   "cell_type": "code",
   "execution_count": null,
   "metadata": {},
   "outputs": [],
   "source": [
    "X1 = X1[indices,:,:,:]\n",
    "X2 = X2[indices,:,:,:]\n",
    "X3 = X3[indices,:,:,:]\n",
    "X4 = X4[indices,:,:,:]\n"
   ]
  },
  {
   "cell_type": "code",
   "execution_count": null,
   "metadata": {},
   "outputs": [],
   "source": [
    "X1 = np.concatenate((X1,X4),axis=-1)\n",
    "X2 = np.concatenate((X2,X3),axis=-1)"
   ]
  },
  {
   "cell_type": "code",
   "execution_count": null,
   "metadata": {},
   "outputs": [],
   "source": [
    "X = X[0:5000]\n",
    "Y = Y[0:5000]"
   ]
  },
  {
   "cell_type": "code",
   "execution_count": null,
   "metadata": {},
   "outputs": [],
   "source": [
    "indices = np.arange(len(X1))\n",
    "np.random.shuffle(indices)\n",
    "\n",
    "percen = 0.9\n",
    "L = len(indices)\n",
    "print(\"shuffle\")\n",
    "np.savez('../DataSet/data_train.npz',   \n",
    "    X1_train=X1[indices[0:int(L*percen)]],X2_train=X2[indices[0:int(L*percen)]],X3_train=X3[indices[0:int(L*percen)]],\n",
    "    X4_train=X4[indices[0:int(L*percen)]],Y_train=Y[indices[0:int(L*percen)]],\n",
    "    X1_valid=X1[indices[int(L*percen):]],X2_valid=X2[indices[int(L*percen):]],X3_valid=X3[indices[int(L*percen):]],\n",
    "    X4_valid=X4[indices[int(L*percen):]],Y_valid=Y[indices[int(L*percen):]])"
   ]
  },
  {
   "cell_type": "code",
   "execution_count": null,
   "metadata": {},
   "outputs": [],
   "source": [
    "net_architecture = 'threeStreamRes2D'\n",
    "isMultiStream = 3\n",
    "indices = np.arange(len(X1))\n",
    "np.random.shuffle(indices)\n",
    "percen = 0.8\n",
    "L = len(indices)\n",
    "print(\"shuffle\")\n",
    "np.savez('../DataSet/data_train.npz',   \n",
    "    X1_train=X1[indices[0:int(L*percen)]],X2_train=X2[indices[0:int(L*percen)]],X3_train=X3[indices[0:int(L*percen)]],Y_train=Y[indices[0:int(L*percen)]],\n",
    "    X1_valid=X1[indices[int(L*percen):]],X2_valid=X2[indices[int(L*percen):]],X3_valid=X3[indices[int(L*percen):]],Y_valid=Y[indices[int(L*percen):]])"
   ]
  },
  {
   "cell_type": "markdown",
   "metadata": {},
   "source": [
    "### Stack"
   ]
  },
  {
   "cell_type": "code",
   "execution_count": null,
   "metadata": {},
   "outputs": [],
   "source": [
    "net_architecture = \"resnet\"\n",
    "isMultiStream = 1"
   ]
  },
  {
   "cell_type": "code",
   "execution_count": null,
   "metadata": {},
   "outputs": [],
   "source": [
    "# X = np.concatenate((X1,X2),axis=-1)\n",
    "net_architecture = \"resnet\"\n",
    "isMultiStream = False\n",
    "indices = np.arange(len(X))\n",
    "np.random.shuffle(indices)\n",
    "percen = 0.8\n",
    "L = len(indices)\n",
    "print(\"shuffle\")\n",
    "np.savez('../DataSet/data_train.npz',   \n",
    "    X1_train=X[indices[0:int(L*percen)]] ,Y_train=Y[indices[0:int(L*percen)]],\n",
    "    X1_valid=X[indices[int(L*percen):]],Y_valid=Y[indices[int(L*percen):]])\n"
   ]
  },
  {
   "cell_type": "markdown",
   "metadata": {},
   "source": [
    "### Model"
   ]
  },
  {
   "cell_type": "code",
   "execution_count": null,
   "metadata": {},
   "outputs": [],
   "source": [
    "net_architecture = 'threeStreamRes2D'\n",
    "isMultiStream = 3"
   ]
  },
  {
   "cell_type": "code",
   "execution_count": null,
   "metadata": {},
   "outputs": [],
   "source": [
    "c = Config(zernike_amplitude_ranges=data['zernike_amplitude_ranges'],\n",
    "           bias_aber=data['bias_aber'],planes = [0], net_architecture = net_architecture,\n",
    "           isMultiStream = isMultiStream,isBlock = False,isRealTime = False,\n",
    "           psf_na_detection=data['psf_na_detection'], psf_units=tuple(data['psf_units']), psf_n=data['psf_n'], \n",
    "           psf_lam_detection=data['psf_lam_detection'], noise_mean=None, noise_snr=None, noise_sigma=None)\n",
    "#vars(c)"
   ]
  },
  {
   "cell_type": "code",
   "execution_count": 5,
   "metadata": {},
   "outputs": [
    {
     "name": "stderr",
     "output_type": "stream",
     "text": [
      "c:\\Users\\ASUS\\anaconda3\\envs\\tensorflow-gpu\\lib\\site-packages\\csbdeep\\models\\base_model.py:149: UserWarning: output path for model already exists, files may be overwritten: E:\\Project\\MeNet-AO\\training\\Models\\0509\\test1\n",
      "  warnings.warn('output path for model already exists, files may be overwritten: %s' % str(self.logdir.resolve()))\n"
     ]
    },
    {
     "name": "stdout",
     "output_type": "stream",
     "text": [
      "input_shape [(32, 32, 2), (32, 32, 2), (32, 32, 2)]\n",
      "output_size: 7\n"
     ]
    }
   ],
   "source": [
    "\n",
    "model = MeNet(config=c, name='test1', basedir='Models/0509')"
   ]
  },
  {
   "cell_type": "code",
   "execution_count": null,
   "metadata": {},
   "outputs": [],
   "source": [
    "model.keras_model.summary()"
   ]
  },
  {
   "cell_type": "code",
   "execution_count": null,
   "metadata": {},
   "outputs": [],
   "source": [
    "from keras.utils.vis_utils import plot_model\n",
    "plot_model(model.keras_model, to_file='MTRes2D_fourierattention.png',show_shapes=True)"
   ]
  },
  {
   "cell_type": "code",
   "execution_count": 8,
   "metadata": {},
   "outputs": [
    {
     "name": "stdout",
     "output_type": "stream",
     "text": [
      "MultiStream\n",
      "Net_architecture: threeStreamRes2D\n",
      "Batch_size: 32\n",
      "train_steps_per_epoch: 1000\n",
      "The number of predicted aberrations: 7\n",
      "Range of predicted aberrations:  {5: [-0.3, 0.3], 6: [-0.3, 0.3], 7: [-0.3, 0.3], 8: [-0.3, 0.3], 9: [-0.3, 0.3], 10: [-0.3, 0.3], 11: [-0.3, 0.3]}\n",
      "Induced bias : {5: 0.2, 6: 0.2, 11: 0.2}\n",
      "Net_architecture: threeStreamRes2D\n",
      "Net_Learning_rate: 0.0006\n",
      "RealTime: False\n"
     ]
    }
   ],
   "source": [
    "print((\"MultiStream\" if model.config.isMultiStream else \"SingleStream\"))\n",
    "\n",
    "print(\"Net_architecture:\",model.config.net_architecture)\n",
    "print(\"Batch_size:\",model.config.train_batch_size)\n",
    "print(\"train_steps_per_epoch:\",model.config.train_steps_per_epoch)\n",
    "print(\"The number of predicted aberrations:\",model.config.n_channel_out)\n",
    "print(\"Range of predicted aberrations: \",model.config.zernike_amplitude_ranges)\n",
    "print(\"Induced bias :\",model.config.bias_aber)\n",
    "print(\"Net_architecture:\",model.config.net_architecture)\n",
    "print(\"Net_Learning_rate:\",model.config.train_learning_rate)\n",
    "print(\"RealTime:\",model.config.isRealTime)"
   ]
  },
  {
   "cell_type": "code",
   "execution_count": 11,
   "metadata": {},
   "outputs": [],
   "source": [
    "model.config.train_learning_rate = 6e-3\n",
    "model.config.train_steps_per_epoch = 1000\n",
    "model.config.train_batch_size = 64\n",
    "model.config.train_n_val = 32\n"
   ]
  },
  {
   "cell_type": "code",
   "execution_count": 12,
   "metadata": {},
   "outputs": [
    {
     "name": "stdout",
     "output_type": "stream",
     "text": [
      "------------------------------\n",
      "load train data...\n",
      "------------------------------\n",
      "e:\\Project\\MeNet-AO\\training\n",
      "(950, 7)\n",
      "load finished\n",
      "Epoch 1/100\n",
      "1000/1000 [==============================] - 57s 57ms/step - loss: 7.1823e-04 - val_loss: 0.0156\n",
      "Epoch 2/100\n",
      "1000/1000 [==============================] - 56s 56ms/step - loss: 4.6139e-04 - val_loss: 0.0216\n",
      "Epoch 3/100\n",
      "1000/1000 [==============================] - 55s 55ms/step - loss: 3.5633e-04 - val_loss: 0.0106\n",
      "Epoch 4/100\n",
      "1000/1000 [==============================] - 55s 55ms/step - loss: 2.7975e-04 - val_loss: 0.0067\n",
      "Epoch 5/100\n",
      "1000/1000 [==============================] - 56s 56ms/step - loss: 2.4125e-04 - val_loss: 0.0059\n",
      "Epoch 6/100\n",
      "1000/1000 [==============================] - 55s 55ms/step - loss: 2.4034e-04 - val_loss: 0.0145\n",
      "Epoch 7/100\n",
      "1000/1000 [==============================] - 56s 56ms/step - loss: 1.8003e-04 - val_loss: 0.0089\n",
      "Epoch 8/100\n",
      "1000/1000 [==============================] - 56s 55ms/step - loss: 1.7252e-04 - val_loss: 0.0038\n",
      "Epoch 9/100\n",
      "1000/1000 [==============================] - 56s 56ms/step - loss: 1.6353e-04 - val_loss: 0.0091\n",
      "Epoch 10/100\n",
      "1000/1000 [==============================] - 55s 55ms/step - loss: 1.0942e-04 - val_loss: 0.0061\n",
      "Epoch 11/100\n",
      "1000/1000 [==============================] - 56s 56ms/step - loss: 7.9066e-04 - val_loss: 0.0029\n",
      "Epoch 12/100\n",
      "1000/1000 [==============================] - 54s 54ms/step - loss: 1.0363e-04 - val_loss: 0.0021\n",
      "Epoch 13/100\n",
      "1000/1000 [==============================] - 54s 54ms/step - loss: 8.4063e-05 - val_loss: 0.0029\n",
      "Epoch 14/100\n",
      "1000/1000 [==============================] - 54s 54ms/step - loss: 9.1668e-05 - val_loss: 0.0032\n",
      "Epoch 15/100\n",
      "1000/1000 [==============================] - 54s 54ms/step - loss: 8.2667e-05 - val_loss: 0.0026\n",
      "Epoch 16/100\n",
      "1000/1000 [==============================] - 54s 54ms/step - loss: 6.6762e-05 - val_loss: 0.0022\n",
      "Epoch 17/100\n",
      "1000/1000 [==============================] - 54s 54ms/step - loss: 5.9364e-05 - val_loss: 0.0020\n",
      "Epoch 18/100\n",
      "1000/1000 [==============================] - 54s 54ms/step - loss: 6.0460e-05 - val_loss: 0.0020\n",
      "Epoch 19/100\n",
      "1000/1000 [==============================] - 54s 54ms/step - loss: 4.7593e-05 - val_loss: 0.0023\n",
      "Epoch 20/100\n",
      "1000/1000 [==============================] - 54s 54ms/step - loss: 4.0632e-05 - val_loss: 0.0015\n",
      "Epoch 21/100\n",
      "1000/1000 [==============================] - 54s 54ms/step - loss: 3.9092e-05 - val_loss: 0.0018\n",
      "Epoch 22/100\n",
      "1000/1000 [==============================] - 54s 54ms/step - loss: 3.5263e-05 - val_loss: 0.0023\n",
      "Epoch 23/100\n",
      "1000/1000 [==============================] - 54s 54ms/step - loss: 3.1670e-05 - val_loss: 0.0021\n",
      "Epoch 24/100\n",
      "1000/1000 [==============================] - 54s 54ms/step - loss: 3.2856e-05 - val_loss: 0.0018\n",
      "Epoch 25/100\n",
      "1000/1000 [==============================] - 54s 54ms/step - loss: 2.6366e-05 - val_loss: 0.0019\n",
      "Epoch 26/100\n",
      "1000/1000 [==============================] - 54s 54ms/step - loss: 2.4966e-05 - val_loss: 0.0020\n",
      "Epoch 27/100\n",
      "1000/1000 [==============================] - 54s 54ms/step - loss: 2.3776e-05 - val_loss: 0.0028\n",
      "Epoch 28/100\n",
      "1000/1000 [==============================] - 54s 54ms/step - loss: 2.3303e-05 - val_loss: 0.0023\n",
      "Epoch 29/100\n",
      "1000/1000 [==============================] - 54s 54ms/step - loss: 2.3903e-05 - val_loss: 0.0017\n",
      "Epoch 30/100\n",
      "1000/1000 [==============================] - 54s 54ms/step - loss: 2.0557e-05 - val_loss: 0.0017\n",
      "Epoch 31/100\n",
      "1000/1000 [==============================] - 54s 54ms/step - loss: 4.4834e-06 - val_loss: 0.0016\n",
      "Epoch 32/100\n",
      "1000/1000 [==============================] - 54s 54ms/step - loss: 4.6547e-06 - val_loss: 0.0019\n",
      "Epoch 33/100\n",
      "1000/1000 [==============================] - 54s 54ms/step - loss: 5.4476e-06 - val_loss: 0.0021\n",
      "Epoch 34/100\n",
      "1000/1000 [==============================] - 54s 54ms/step - loss: 5.4892e-06 - val_loss: 0.0017\n",
      "Epoch 35/100\n",
      "1000/1000 [==============================] - 54s 54ms/step - loss: 5.5378e-06 - val_loss: 0.0022\n",
      "Epoch 36/100\n",
      "1000/1000 [==============================] - 54s 54ms/step - loss: 5.4623e-06 - val_loss: 0.0017\n",
      "Epoch 37/100\n",
      "1000/1000 [==============================] - 54s 54ms/step - loss: 5.2864e-06 - val_loss: 0.0019\n",
      "Epoch 38/100\n",
      "1000/1000 [==============================] - 54s 54ms/step - loss: 5.3291e-06 - val_loss: 0.0021\n",
      "Epoch 39/100\n",
      "1000/1000 [==============================] - 54s 54ms/step - loss: 5.0494e-06 - val_loss: 0.0023\n",
      "Epoch 40/100\n",
      "1000/1000 [==============================] - 54s 54ms/step - loss: 4.9529e-06 - val_loss: 0.0019\n",
      "Epoch 41/100\n",
      "1000/1000 [==============================] - 54s 54ms/step - loss: 1.7213e-06 - val_loss: 0.0020\n",
      "Epoch 42/100\n",
      "1000/1000 [==============================] - 54s 54ms/step - loss: 1.9920e-06 - val_loss: 0.0019\n",
      "Epoch 43/100\n",
      "1000/1000 [==============================] - 54s 54ms/step - loss: 2.1096e-06 - val_loss: 0.0021\n",
      "Epoch 44/100\n",
      "1000/1000 [==============================] - 54s 54ms/step - loss: 2.0312e-06 - val_loss: 0.0020\n",
      "Epoch 45/100\n",
      "1000/1000 [==============================] - 54s 54ms/step - loss: 1.9618e-06 - val_loss: 0.0016\n",
      "Epoch 46/100\n",
      "1000/1000 [==============================] - 54s 54ms/step - loss: 1.9540e-06 - val_loss: 0.0022\n",
      "Epoch 47/100\n",
      "1000/1000 [==============================] - 54s 54ms/step - loss: 1.9417e-06 - val_loss: 0.0018\n",
      "Epoch 48/100\n",
      "1000/1000 [==============================] - 54s 54ms/step - loss: 1.9545e-06 - val_loss: 0.0016\n",
      "Epoch 49/100\n",
      "1000/1000 [==============================] - 54s 54ms/step - loss: 1.9419e-06 - val_loss: 0.0017\n",
      "Epoch 50/100\n",
      "1000/1000 [==============================] - 54s 54ms/step - loss: 1.9169e-06 - val_loss: 0.0022\n",
      "Epoch 51/100\n",
      "1000/1000 [==============================] - 54s 54ms/step - loss: 1.0217e-06 - val_loss: 0.0022\n",
      "Epoch 52/100\n",
      "1000/1000 [==============================] - 54s 54ms/step - loss: 1.0606e-06 - val_loss: 0.0017\n",
      "Epoch 53/100\n",
      "1000/1000 [==============================] - 54s 54ms/step - loss: 1.1046e-06 - val_loss: 0.0023\n",
      "Epoch 54/100\n",
      "1000/1000 [==============================] - 54s 54ms/step - loss: 1.0927e-06 - val_loss: 0.0023\n",
      "Epoch 55/100\n",
      "1000/1000 [==============================] - 54s 54ms/step - loss: 1.0979e-06 - val_loss: 0.0016\n",
      "Epoch 56/100\n",
      "1000/1000 [==============================] - 54s 54ms/step - loss: 1.0635e-06 - val_loss: 0.0016\n",
      "Epoch 57/100\n",
      "1000/1000 [==============================] - 54s 54ms/step - loss: 1.0736e-06 - val_loss: 0.0018\n",
      "Epoch 58/100\n",
      "1000/1000 [==============================] - 54s 54ms/step - loss: 1.0569e-06 - val_loss: 0.0026\n",
      "Epoch 59/100\n",
      "1000/1000 [==============================] - 54s 54ms/step - loss: 1.0682e-06 - val_loss: 0.0015\n",
      "Epoch 60/100\n",
      "1000/1000 [==============================] - 54s 54ms/step - loss: 1.0376e-06 - val_loss: 0.0015\n",
      "Epoch 61/100\n",
      "1000/1000 [==============================] - 54s 54ms/step - loss: 7.4009e-07 - val_loss: 0.0021\n",
      "Epoch 62/100\n",
      "1000/1000 [==============================] - 54s 54ms/step - loss: 7.5097e-07 - val_loss: 0.0027\n",
      "Epoch 63/100\n",
      "1000/1000 [==============================] - 54s 54ms/step - loss: 7.4222e-07 - val_loss: 0.0020\n",
      "Epoch 64/100\n",
      "1000/1000 [==============================] - 54s 54ms/step - loss: 7.3412e-07 - val_loss: 0.0022\n",
      "Epoch 65/100\n",
      "1000/1000 [==============================] - 54s 54ms/step - loss: 7.5191e-07 - val_loss: 0.0021\n",
      "Epoch 66/100\n",
      "1000/1000 [==============================] - 54s 54ms/step - loss: 7.2764e-07 - val_loss: 0.0025\n",
      "Epoch 67/100\n",
      "1000/1000 [==============================] - 54s 54ms/step - loss: 7.3698e-07 - val_loss: 0.0022\n",
      "Epoch 68/100\n",
      "1000/1000 [==============================] - 55s 55ms/step - loss: 7.1816e-07 - val_loss: 0.0018\n",
      "Epoch 69/100\n",
      "1000/1000 [==============================] - 54s 54ms/step - loss: 7.1568e-07 - val_loss: 0.0018\n",
      "Epoch 70/100\n",
      "1000/1000 [==============================] - 54s 54ms/step - loss: 7.3122e-07 - val_loss: 0.0011\n",
      "Epoch 71/100\n",
      "1000/1000 [==============================] - 54s 54ms/step - loss: 7.2836e-07 - val_loss: 0.0022\n",
      "Epoch 72/100\n",
      "1000/1000 [==============================] - 54s 54ms/step - loss: 7.3274e-07 - val_loss: 0.0020\n",
      "Epoch 73/100\n",
      "1000/1000 [==============================] - 54s 54ms/step - loss: 7.0424e-07 - val_loss: 0.0020\n",
      "Epoch 74/100\n",
      "1000/1000 [==============================] - 54s 54ms/step - loss: 7.1803e-07 - val_loss: 0.0024\n",
      "Epoch 75/100\n",
      "1000/1000 [==============================] - 54s 54ms/step - loss: 7.2213e-07 - val_loss: 0.0013\n",
      "Epoch 76/100\n",
      "1000/1000 [==============================] - 54s 54ms/step - loss: 7.0733e-07 - val_loss: 0.0024\n",
      "Epoch 77/100\n",
      "1000/1000 [==============================] - 54s 54ms/step - loss: 7.1563e-07 - val_loss: 0.0019\n",
      "Epoch 78/100\n",
      "1000/1000 [==============================] - 54s 54ms/step - loss: 7.1429e-07 - val_loss: 0.0024\n",
      "Epoch 79/100\n",
      "1000/1000 [==============================] - 54s 54ms/step - loss: 7.0120e-07 - val_loss: 0.0021\n",
      "Epoch 80/100\n",
      "1000/1000 [==============================] - 54s 54ms/step - loss: 7.1288e-07 - val_loss: 0.0019\n",
      "Epoch 81/100\n",
      "1000/1000 [==============================] - 54s 54ms/step - loss: 5.6642e-07 - val_loss: 0.0016\n",
      "Epoch 82/100\n",
      "1000/1000 [==============================] - 54s 54ms/step - loss: 5.6868e-07 - val_loss: 0.0013\n",
      "Epoch 83/100\n",
      "1000/1000 [==============================] - 54s 54ms/step - loss: 5.7475e-07 - val_loss: 0.0022\n",
      "Epoch 84/100\n",
      "1000/1000 [==============================] - 54s 54ms/step - loss: 5.6487e-07 - val_loss: 0.0023\n",
      "Epoch 85/100\n",
      "1000/1000 [==============================] - 54s 54ms/step - loss: 5.7285e-07 - val_loss: 0.0022\n",
      "Epoch 86/100\n",
      "1000/1000 [==============================] - 54s 54ms/step - loss: 5.6824e-07 - val_loss: 0.0019\n",
      "Epoch 87/100\n",
      "1000/1000 [==============================] - 54s 54ms/step - loss: 5.6594e-07 - val_loss: 0.0014\n",
      "Epoch 88/100\n",
      "1000/1000 [==============================] - 54s 54ms/step - loss: 5.8247e-07 - val_loss: 0.0020\n",
      "Epoch 89/100\n",
      "1000/1000 [==============================] - 54s 54ms/step - loss: 5.7294e-07 - val_loss: 0.0017\n",
      "Epoch 90/100\n",
      "1000/1000 [==============================] - 54s 54ms/step - loss: 5.6396e-07 - val_loss: 0.0015\n",
      "Epoch 91/100\n",
      "1000/1000 [==============================] - 54s 54ms/step - loss: 4.9783e-07 - val_loss: 0.0020\n",
      "Epoch 92/100\n",
      "1000/1000 [==============================] - 54s 54ms/step - loss: 5.0484e-07 - val_loss: 0.0020\n",
      "Epoch 93/100\n",
      "1000/1000 [==============================] - 54s 54ms/step - loss: 5.0272e-07 - val_loss: 0.0024\n",
      "Epoch 94/100\n",
      "1000/1000 [==============================] - 54s 54ms/step - loss: 5.0526e-07 - val_loss: 0.0026\n",
      "Epoch 95/100\n",
      "1000/1000 [==============================] - 54s 54ms/step - loss: 5.1121e-07 - val_loss: 0.0018\n",
      "Epoch 96/100\n",
      "1000/1000 [==============================] - 54s 54ms/step - loss: 4.9700e-07 - val_loss: 0.0014\n",
      "Epoch 97/100\n",
      "1000/1000 [==============================] - 54s 54ms/step - loss: 5.0191e-07 - val_loss: 0.0022\n",
      "Epoch 98/100\n",
      "1000/1000 [==============================] - 54s 54ms/step - loss: 5.0455e-07 - val_loss: 0.0021\n",
      "Epoch 99/100\n",
      "1000/1000 [==============================] - 54s 54ms/step - loss: 5.0186e-07 - val_loss: 0.0020\n",
      "Epoch 100/100\n",
      "1000/1000 [==============================] - 54s 54ms/step - loss: 4.9868e-07 - val_loss: 0.0020\n",
      "\n",
      "Loading network weights from 'weights_best.h5'.\n"
     ]
    },
    {
     "data": {
      "text/plain": [
       "<keras.callbacks.History at 0x204a1ecfd90>"
      ]
     },
     "execution_count": 12,
     "metadata": {},
     "output_type": "execute_result"
    }
   ],
   "source": [
    "model.train(epochs=100)"
   ]
  },
  {
   "cell_type": "code",
   "execution_count": null,
   "metadata": {},
   "outputs": [],
   "source": [
    "import tensorboard"
   ]
  }
 ],
 "metadata": {
  "kernelspec": {
   "display_name": "tensorflow-gpu",
   "language": "python",
   "name": "python3"
  },
  "language_info": {
   "codemirror_mode": {
    "name": "ipython",
    "version": 3
   },
   "file_extension": ".py",
   "mimetype": "text/x-python",
   "name": "python",
   "nbconvert_exporter": "python",
   "pygments_lexer": "ipython3",
   "version": "3.9.13"
  }
 },
 "nbformat": 4,
 "nbformat_minor": 2
}
