{
 "cells": [
  {
   "cell_type": "code",
   "execution_count": 1,
   "metadata": {},
   "outputs": [],
   "source": [
    "import sys\n",
    "sys.path.append(r'..') \n",
    "import os\n",
    "os.environ[\"KMP_DUPLICATE_LIB_OK\"]=\"TRUE\"\n",
    "\n",
    "from model.model import MeNet\n",
    "from model.Gdata import Data\n",
    "from model.config import Config\n",
    "from tqdm import tqdm\n",
    "import matplotlib.pyplot as plt \n",
    "import numpy as np\n",
    "import json"
   ]
  },
  {
   "cell_type": "markdown",
   "metadata": {},
   "source": [
    "## Trained a new model"
   ]
  },
  {
   "cell_type": "code",
   "execution_count": 2,
   "metadata": {},
   "outputs": [],
   "source": [
    "def load_json_file(fpath):\n",
    "    with open(fpath, 'r') as f:\n",
    "        data = json.load(f)\n",
    "    return data"
   ]
  },
  {
   "cell_type": "code",
   "execution_count": null,
   "metadata": {},
   "outputs": [],
   "source": [
    "\n",
    "file_path = '' # the dataset path you saved\n",
    "data = load_json_file(str(file_path+'/config.json'))\n",
    "\n",
    "print('Modulation:',data['modulate_aber'])\n",
    "print('Initial Mode Ranges:',data['zernike_amplitude_ranges'])"
   ]
  },
  {
   "cell_type": "code",
   "execution_count": null,
   "metadata": {},
   "outputs": [],
   "source": [
    "net_architecture = 'MeNet'  # 'singleEncoder' \n",
    "c = Config(zernike_amplitude_ranges=data['zernike_amplitude_ranges'],\n",
    "           modulate_aber=data['modulate_aber'],net_architecture = net_architecture,\n",
    "           isMultiStream = 3,isRealTime = False,psf_na_detection=data['psf_na_detection'], \n",
    "           psf_units=tuple(data['psf_units']), psf_n=data['psf_n'], \n",
    "           psf_lam_detection=data['psf_lam_detection'],dataFile = data['dataFile'], \n",
    "           isRegular = data['isRegular'], regularValue = data['regularValue'])\n",
    "#vars(c)"
   ]
  },
  {
   "cell_type": "code",
   "execution_count": null,
   "metadata": {},
   "outputs": [],
   "source": [
    "model = MeNet(config=c, name='test', basedir='Models/')"
   ]
  },
  {
   "cell_type": "code",
   "execution_count": null,
   "metadata": {},
   "outputs": [],
   "source": [
    "print((\"MultiStream\" if model.config.isMultiStream else \"SingleStream\"))\n",
    "\n",
    "print(\"Net_architecture:\",model.config.net_architecture)\n",
    "print(\"Batch_size:\",model.config.train_batch_size)\n",
    "print(\"train_steps_per_epoch:\",model.config.train_steps_per_epoch)\n",
    "print(\"The number of predicted aberrations:\",model.config.n_channel_out)\n",
    "print(\"Range of predicted aberrations: \",model.config.zernike_amplitude_ranges)\n",
    "print(\"Induced bias :\",model.config.bias_aber)\n",
    "print(\"Net_architecture:\",model.config.net_architecture)\n",
    "print(\"Net_Learning_rate:\",model.config.train_learning_rate)\n",
    "print(\"RealTime:\",model.config.isRealTime)"
   ]
  },
  {
   "cell_type": "code",
   "execution_count": 11,
   "metadata": {},
   "outputs": [],
   "source": [
    "model.config.train_learning_rate = 6e-3\n",
    "model.config.train_steps_per_epoch = 1000\n",
    "model.config.train_batch_size = 64\n",
    "model.config.train_n_val = 32\n"
   ]
  },
  {
   "cell_type": "code",
   "execution_count": null,
   "metadata": {},
   "outputs": [],
   "source": [
    "model.train(epochs=100)"
   ]
  },
  {
   "cell_type": "code",
   "execution_count": null,
   "metadata": {},
   "outputs": [],
   "source": [
    "test_data = np.load(model.config.dataFile+'data_test.npz')\n",
    "X1_test = test_data['X1_test']\n",
    "X2_test = test_data['X2_test']\n",
    "X3_test = test_data['X3_test']\n",
    "Y_test = test_data['Y_test']"
   ]
  },
  {
   "cell_type": "code",
   "execution_count": null,
   "metadata": {},
   "outputs": [],
   "source": [
    "X = {'X1': X1_test, 'X2': X2_test, 'X3': X3_test}\n",
    "gt = Y_test"
   ]
  },
  {
   "cell_type": "code",
   "execution_count": null,
   "metadata": {},
   "outputs": [],
   "source": [
    "zerns_noll = []\n",
    "for k in model.config.zernike_amplitude_ranges.keys():\n",
    "    zerns_noll.append(int(k))\n",
    "pre = model.keras_model.predict(X)"
   ]
  },
  {
   "cell_type": "code",
   "execution_count": null,
   "metadata": {},
   "outputs": [],
   "source": [
    "plt.figure(figsize=(24, 10),facecolor='w',edgecolor='w')\n",
    "mode_num = 0\n",
    "# rangeLimit = model.config.zernike_amplitude_ranges['5']\n",
    "# lower_limit,upper_limit = rangeLimit[0]-0.05,rangeLimit[1]+0.05\n",
    "lower_limit,upper_limit = -0.5-0.05,0.5+0.05\n",
    "for j in range(gt.shape[1]):\n",
    "    plt.subplot(2,4,j+1)\n",
    "    #ax = plt.subplot(2,2,j+1).add_axes((0.14, .12, .8, .77))\n",
    "    ax = plt.gca()\n",
    "    for i in range(gt.shape[0]):\n",
    "        # ax.plot(gt[i][mode_num],tmp[i][mode_num],\"o\",color=colors[i], markersize=4)\n",
    "        ax.plot(gt[i][mode_num],pre[i][mode_num],\"o\",color='black', markersize=4)\n",
    "    \n",
    "    # plt.ylim(lower_limit,upper_limit)\n",
    "    # plt.xlim(lower_limit,upper_limit)\n",
    "    # plt.grid(False)\n",
    "\n",
    "    plt.xlabel(f'Experimentally introduced amplitude for $\\mathbf{{Z_{{{zerns_noll[mode_num]}}}}}$ / $\\mathbf{{\\mu m}}$' , \n",
    "               size=12, fontweight='bold', labelpad=4)\n",
    "    plt.ylabel(f'Predicted amplitude $\\mathbf{{a_{{{zerns_noll[mode_num]}}}}}$ / $\\mathbf{{\\mu m}}$', \n",
    "               size=12, fontweight='bold', labelpad=-5)\n",
    "    ax.spines['right'].set_visible(False)\n",
    "    ax.spines['top'].set_visible(False)\n",
    "    ax.spines['bottom'].set_linewidth(2)  # x轴加粗\n",
    "    ax.spines['left'].set_linewidth(2)    # y轴加粗\n",
    "\n",
    "    plt.yticks(size=14,color=\"black\", fontweight='bold')\n",
    "    plt.xticks(size=14,color=\"black\", fontweight='bold')\n",
    "    # plt.ylim(lower_limit,upper_limit)\n",
    "    # plt.xlim(lower_limit,upper_limit)\n",
    "\n",
    "    # sm = plt.cm.ScalarMappable(cmap=cmap, norm=norm)\n",
    "    # sm.set_array([])  # 为空数组\n",
    "    # plt.colorbar(sm, ax=ax, label='Color Scale')\n",
    "\n",
    "    XX = np.linspace(lower_limit, upper_limit, num=50)\n",
    "    YY = 1 * XX\n",
    "    ax.plot(XX, YY, ls=\"--\", color = \"k\")\n",
    "\n",
    "    mode_num = mode_num+1\n",
    "    \n"
   ]
  }
 ],
 "metadata": {
  "kernelspec": {
   "display_name": "tensorflow-gpu",
   "language": "python",
   "name": "python3"
  },
  "language_info": {
   "codemirror_mode": {
    "name": "ipython",
    "version": 3
   },
   "file_extension": ".py",
   "mimetype": "text/x-python",
   "name": "python",
   "nbconvert_exporter": "python",
   "pygments_lexer": "ipython3",
   "version": "3.9.13"
  }
 },
 "nbformat": 4,
 "nbformat_minor": 2
}
